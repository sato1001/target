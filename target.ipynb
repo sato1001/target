{
  "nbformat": 4,
  "nbformat_minor": 0,
  "metadata": {
    "colab": {
      "provenance": []
    },
    "kernelspec": {
      "name": "python3",
      "display_name": "Python 3"
    },
    "language_info": {
      "name": "python"
    }
  },
  "cells": [
    {
      "cell_type": "markdown",
      "source": [
        "\n",
        "\n",
        "\n",
        "1) Observe o trecho de código abaixo:\n",
        "\n",
        "int INDICE = 13, SOMA = 0, K = 0;\n",
        "\n",
        "enquanto K < INDICE faça\n",
        "\n",
        "{\n",
        "\n",
        "K = K + 1;\n",
        "\n",
        "SOMA = SOMA + K;\n",
        "\n",
        "}\n",
        "\n",
        "imprimir(SOMA);\n",
        "\n",
        "\n",
        "```\n",
        "Ao final do processamento, qual será o valor da variável SOMA?\n",
        "RESP: Ao final de todo o processamento será exbido o numero 91. Pois o loop While soma todos os elementos de numeros inteiros de 0 a 13.\n",
        "```\n",
        "\n"
      ],
      "metadata": {
        "id": "9rHHuR3dSTS_"
      }
    },
    {
      "cell_type": "markdown",
      "source": [
        "2) Dado a sequência de Fibonacci, onde se inicia por 0 e 1 e o próximo valor sempre será a soma dos 2 valores anteriores (exemplo: 0, 1, 1, 2, 3, 5, 8, 13, 21, 34...), escreva um programa na linguagem que desejar onde, informado um número, ele calcule a sequência de Fibonacci e retorne uma mensagem avisando se o número informado pertence ou não a sequência."
      ],
      "metadata": {
        "id": "fgDJZNCRUcUT"
      }
    },
    {
      "cell_type": "code",
      "execution_count": 1,
      "metadata": {
        "colab": {
          "base_uri": "https://localhost:8080/"
        },
        "id": "-XLJ2s3QSQrx",
        "outputId": "a321efc9-2ccf-4f28-a286-1b2182bc6e05"
      },
      "outputs": [
        {
          "output_type": "stream",
          "name": "stdout",
          "text": [
            "Digite um número: 13\n",
            "O número 13 pertence à sequência de Fibonacci!\n"
          ]
        }
      ],
      "source": [
        "def main():\n",
        "  num = int(input(\"Digite um número: \"))\n",
        "  fib_seq = [0, 1]\n",
        "  for i in range(2, num + 1):\n",
        "    fib_seq.append(fib_seq[i - 1] + fib_seq[i - 2])\n",
        "\n",
        "  if num in fib_seq:\n",
        "    print(f\"O número {num}: pertence à sequência de Fibonacci!\")\n",
        "  else:\n",
        "    print(f\"O número {num}: não pertence à sequência de Fibonacci.\")\n",
        "\n",
        "if __name__ == \"__main__\":\n",
        "  main()"
      ]
    },
    {
      "cell_type": "markdown",
      "source": [
        "3) Descubra a lógica e complete o próximo elemento:\n",
        "\n",
        "\n",
        "\n",
        "a) 1, 3, 5, 7, ___\n",
        "\n",
        "b) 2, 4, 8, 16, 32, 64, ____\n",
        "\n",
        "c) 0, 1, 4, 9, 16, 25, 36, ____\n",
        "\n",
        "d) 4, 16, 36, 64, ____\n",
        "\n",
        "e) 1, 1, 2, 3, 5, 8, ____\n",
        "\n",
        "f) 2,10, 12, 16, 17, 18, 19, ____\n",
        "\n",
        "```\n",
        "a) 9\n",
        "b) 128\n",
        "c) 49\n",
        "d) 100\n",
        "e) 13\n",
        "f) 200\n",
        "```"
      ],
      "metadata": {
        "id": "cWTerSHaU7Pr"
      }
    },
    {
      "cell_type": "markdown",
      "source": [
        "4) Você está em uma sala com três interruptores, cada um conectado a uma lâmpada em uma sala diferente. Você não pode ver as lâmpadas da sala em que está, mas pode ligar e desligar os interruptores quantas vezes quiser. Seu objetivo é descobrir qual interruptor controla qual lâmpada.\n",
        "\n",
        "Como você faria para descobrir, usando apenas duas idas até uma das salas das lâmpadas, qual interruptor controla cada lâmpada?\n",
        "\n",
        "```\n",
        "Na segunda sala ligue o interruptor 1 por 15 minutos, desligue-o, depois ligue o interruptor 2 e vá para a primeira sala.\n",
        "A luz brilhante corresponde ao interruptor 2, a luz quente corresponde ao interruptor 1, as restantes luzes correspondem apenas ao interruptor 3.\n",
        "```"
      ],
      "metadata": {
        "id": "GrjIsCpaV0Jb"
      }
    },
    {
      "cell_type": "markdown",
      "source": [
        "5) Escreva um programa que inverta os caracteres de um string.\n"
      ],
      "metadata": {
        "id": "4h3DQ5f_WsP7"
      }
    },
    {
      "cell_type": "code",
      "source": [
        "def inverter_string(string):\n",
        "  string_invertida = \"\"\n",
        "  for i in range(len(string)-1, -1, -1):\n",
        "    string_invertida += string[i]\n",
        "  return string_invertida\n",
        "\n",
        "def main():\n",
        "  string = input(\"Digite uma string: \")\n",
        "\n",
        "  string_invertida = inverter_string(string)\n",
        "  print(f\"String inicial: {string}\")\n",
        "  print(f\"String invertida: {string_invertida}\")\n",
        "\n",
        "if __name__ == \"__main__\":\n",
        "  main()"
      ],
      "metadata": {
        "colab": {
          "base_uri": "https://localhost:8080/"
        },
        "id": "C4eMu9EiXL8Q",
        "outputId": "b077521e-7aa5-467f-b131-78e177e1ec93"
      },
      "execution_count": 3,
      "outputs": [
        {
          "output_type": "stream",
          "name": "stdout",
          "text": [
            "Digite uma string: teste\n",
            "String inicial: teste\n",
            "String invertida: etset\n"
          ]
        }
      ]
    }
  ]
}